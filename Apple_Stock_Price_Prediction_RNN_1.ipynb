{
  "nbformat": 4,
  "nbformat_minor": 0,
  "metadata": {
    "colab": {
      "name": "Apple_Stock_Price_Prediction_RNN_1.ipynb",
      "provenance": [],
      "collapsed_sections": [],
      "authorship_tag": "ABX9TyNkLVB9EYeD/Vm1Do3PMXdy"
    },
    "kernelspec": {
      "name": "python3",
      "display_name": "Python 3"
    },
    "language_info": {
      "name": "python"
    },
    "accelerator": "GPU"
  },
  "cells": [
    {
      "cell_type": "code",
      "execution_count": null,
      "metadata": {
        "id": "GGTxPknDImIt"
      },
      "outputs": [],
      "source": [
        "from google.colab import drive"
      ]
    },
    {
      "cell_type": "code",
      "source": [
        "drive.mount('/content/drive')"
      ],
      "metadata": {
        "colab": {
          "base_uri": "https://localhost:8080/"
        },
        "id": "tXpwszgKIv2f",
        "outputId": "d16d733c-6157-4067-fd4c-80655a65b8d4"
      },
      "execution_count": null,
      "outputs": [
        {
          "output_type": "stream",
          "name": "stdout",
          "text": [
            "Mounted at /content/drive\n"
          ]
        }
      ]
    },
    {
      "cell_type": "code",
      "source": [
        "import os\n",
        "os.getcwd()"
      ],
      "metadata": {
        "colab": {
          "base_uri": "https://localhost:8080/",
          "height": 35
        },
        "id": "hlNPbRP-IzyV",
        "outputId": "14ad7658-ddd8-487a-f3dc-2dc5780c5ad9"
      },
      "execution_count": null,
      "outputs": [
        {
          "output_type": "execute_result",
          "data": {
            "application/vnd.google.colaboratory.intrinsic+json": {
              "type": "string"
            },
            "text/plain": [
              "'/content'"
            ]
          },
          "metadata": {},
          "execution_count": 3
        }
      ]
    },
    {
      "cell_type": "code",
      "source": [
        "os.chdir('/content/drive/My Drive')"
      ],
      "metadata": {
        "id": "cxpDDWfYI5su"
      },
      "execution_count": null,
      "outputs": []
    },
    {
      "cell_type": "code",
      "source": [
        "import pandas as pd\n",
        "\n",
        "\n",
        "apple_training = pd.read_csv('apple_training.csv')"
      ],
      "metadata": {
        "id": "We-peu6hJFI1"
      },
      "execution_count": null,
      "outputs": []
    },
    {
      "cell_type": "code",
      "source": [
        "apple_training.shape"
      ],
      "metadata": {
        "colab": {
          "base_uri": "https://localhost:8080/"
        },
        "id": "BoJmzEq-kjE8",
        "outputId": "24bea3e9-4100-433f-a399-20224f6b49dd"
      },
      "execution_count": null,
      "outputs": [
        {
          "output_type": "execute_result",
          "data": {
            "text/plain": [
              "(1260, 7)"
            ]
          },
          "metadata": {},
          "execution_count": 6
        }
      ]
    },
    {
      "cell_type": "code",
      "source": [
        "apple_training.head()"
      ],
      "metadata": {
        "colab": {
          "base_uri": "https://localhost:8080/",
          "height": 206
        },
        "id": "n0liej3Qk_OL",
        "outputId": "29151d10-7240-43fc-eb50-1d7eb4e4a865"
      },
      "execution_count": null,
      "outputs": [
        {
          "output_type": "execute_result",
          "data": {
            "text/html": [
              "\n",
              "  <div id=\"df-8411c0f9-f1ea-4369-a084-53f03e4ec0a1\">\n",
              "    <div class=\"colab-df-container\">\n",
              "      <div>\n",
              "<style scoped>\n",
              "    .dataframe tbody tr th:only-of-type {\n",
              "        vertical-align: middle;\n",
              "    }\n",
              "\n",
              "    .dataframe tbody tr th {\n",
              "        vertical-align: top;\n",
              "    }\n",
              "\n",
              "    .dataframe thead th {\n",
              "        text-align: right;\n",
              "    }\n",
              "</style>\n",
              "<table border=\"1\" class=\"dataframe\">\n",
              "  <thead>\n",
              "    <tr style=\"text-align: right;\">\n",
              "      <th></th>\n",
              "      <th>Date</th>\n",
              "      <th>Open</th>\n",
              "      <th>High</th>\n",
              "      <th>Low</th>\n",
              "      <th>Close</th>\n",
              "      <th>Adj Close</th>\n",
              "      <th>Volume</th>\n",
              "    </tr>\n",
              "  </thead>\n",
              "  <tbody>\n",
              "    <tr>\n",
              "      <th>0</th>\n",
              "      <td>2012-12-31</td>\n",
              "      <td>72.932854</td>\n",
              "      <td>76.485718</td>\n",
              "      <td>72.714287</td>\n",
              "      <td>76.024284</td>\n",
              "      <td>53.974899</td>\n",
              "      <td>164873100</td>\n",
              "    </tr>\n",
              "    <tr>\n",
              "      <th>1</th>\n",
              "      <td>2013-01-02</td>\n",
              "      <td>79.117142</td>\n",
              "      <td>79.285713</td>\n",
              "      <td>77.375717</td>\n",
              "      <td>78.432854</td>\n",
              "      <td>55.684914</td>\n",
              "      <td>140129500</td>\n",
              "    </tr>\n",
              "    <tr>\n",
              "      <th>2</th>\n",
              "      <td>2013-01-03</td>\n",
              "      <td>78.268570</td>\n",
              "      <td>78.524284</td>\n",
              "      <td>77.285713</td>\n",
              "      <td>77.442856</td>\n",
              "      <td>54.982059</td>\n",
              "      <td>88241300</td>\n",
              "    </tr>\n",
              "    <tr>\n",
              "      <th>3</th>\n",
              "      <td>2013-01-04</td>\n",
              "      <td>76.709999</td>\n",
              "      <td>76.947144</td>\n",
              "      <td>75.118568</td>\n",
              "      <td>75.285713</td>\n",
              "      <td>53.450539</td>\n",
              "      <td>148583400</td>\n",
              "    </tr>\n",
              "    <tr>\n",
              "      <th>4</th>\n",
              "      <td>2013-01-07</td>\n",
              "      <td>74.571426</td>\n",
              "      <td>75.614288</td>\n",
              "      <td>73.599998</td>\n",
              "      <td>74.842857</td>\n",
              "      <td>53.136124</td>\n",
              "      <td>121039100</td>\n",
              "    </tr>\n",
              "  </tbody>\n",
              "</table>\n",
              "</div>\n",
              "      <button class=\"colab-df-convert\" onclick=\"convertToInteractive('df-8411c0f9-f1ea-4369-a084-53f03e4ec0a1')\"\n",
              "              title=\"Convert this dataframe to an interactive table.\"\n",
              "              style=\"display:none;\">\n",
              "        \n",
              "  <svg xmlns=\"http://www.w3.org/2000/svg\" height=\"24px\"viewBox=\"0 0 24 24\"\n",
              "       width=\"24px\">\n",
              "    <path d=\"M0 0h24v24H0V0z\" fill=\"none\"/>\n",
              "    <path d=\"M18.56 5.44l.94 2.06.94-2.06 2.06-.94-2.06-.94-.94-2.06-.94 2.06-2.06.94zm-11 1L8.5 8.5l.94-2.06 2.06-.94-2.06-.94L8.5 2.5l-.94 2.06-2.06.94zm10 10l.94 2.06.94-2.06 2.06-.94-2.06-.94-.94-2.06-.94 2.06-2.06.94z\"/><path d=\"M17.41 7.96l-1.37-1.37c-.4-.4-.92-.59-1.43-.59-.52 0-1.04.2-1.43.59L10.3 9.45l-7.72 7.72c-.78.78-.78 2.05 0 2.83L4 21.41c.39.39.9.59 1.41.59.51 0 1.02-.2 1.41-.59l7.78-7.78 2.81-2.81c.8-.78.8-2.07 0-2.86zM5.41 20L4 18.59l7.72-7.72 1.47 1.35L5.41 20z\"/>\n",
              "  </svg>\n",
              "      </button>\n",
              "      \n",
              "  <style>\n",
              "    .colab-df-container {\n",
              "      display:flex;\n",
              "      flex-wrap:wrap;\n",
              "      gap: 12px;\n",
              "    }\n",
              "\n",
              "    .colab-df-convert {\n",
              "      background-color: #E8F0FE;\n",
              "      border: none;\n",
              "      border-radius: 50%;\n",
              "      cursor: pointer;\n",
              "      display: none;\n",
              "      fill: #1967D2;\n",
              "      height: 32px;\n",
              "      padding: 0 0 0 0;\n",
              "      width: 32px;\n",
              "    }\n",
              "\n",
              "    .colab-df-convert:hover {\n",
              "      background-color: #E2EBFA;\n",
              "      box-shadow: 0px 1px 2px rgba(60, 64, 67, 0.3), 0px 1px 3px 1px rgba(60, 64, 67, 0.15);\n",
              "      fill: #174EA6;\n",
              "    }\n",
              "\n",
              "    [theme=dark] .colab-df-convert {\n",
              "      background-color: #3B4455;\n",
              "      fill: #D2E3FC;\n",
              "    }\n",
              "\n",
              "    [theme=dark] .colab-df-convert:hover {\n",
              "      background-color: #434B5C;\n",
              "      box-shadow: 0px 1px 3px 1px rgba(0, 0, 0, 0.15);\n",
              "      filter: drop-shadow(0px 1px 2px rgba(0, 0, 0, 0.3));\n",
              "      fill: #FFFFFF;\n",
              "    }\n",
              "  </style>\n",
              "\n",
              "      <script>\n",
              "        const buttonEl =\n",
              "          document.querySelector('#df-8411c0f9-f1ea-4369-a084-53f03e4ec0a1 button.colab-df-convert');\n",
              "        buttonEl.style.display =\n",
              "          google.colab.kernel.accessAllowed ? 'block' : 'none';\n",
              "\n",
              "        async function convertToInteractive(key) {\n",
              "          const element = document.querySelector('#df-8411c0f9-f1ea-4369-a084-53f03e4ec0a1');\n",
              "          const dataTable =\n",
              "            await google.colab.kernel.invokeFunction('convertToInteractive',\n",
              "                                                     [key], {});\n",
              "          if (!dataTable) return;\n",
              "\n",
              "          const docLinkHtml = 'Like what you see? Visit the ' +\n",
              "            '<a target=\"_blank\" href=https://colab.research.google.com/notebooks/data_table.ipynb>data table notebook</a>'\n",
              "            + ' to learn more about interactive tables.';\n",
              "          element.innerHTML = '';\n",
              "          dataTable['output_type'] = 'display_data';\n",
              "          await google.colab.output.renderOutput(dataTable, element);\n",
              "          const docLink = document.createElement('div');\n",
              "          docLink.innerHTML = docLinkHtml;\n",
              "          element.appendChild(docLink);\n",
              "        }\n",
              "      </script>\n",
              "    </div>\n",
              "  </div>\n",
              "  "
            ],
            "text/plain": [
              "         Date       Open       High        Low      Close  Adj Close     Volume\n",
              "0  2012-12-31  72.932854  76.485718  72.714287  76.024284  53.974899  164873100\n",
              "1  2013-01-02  79.117142  79.285713  77.375717  78.432854  55.684914  140129500\n",
              "2  2013-01-03  78.268570  78.524284  77.285713  77.442856  54.982059   88241300\n",
              "3  2013-01-04  76.709999  76.947144  75.118568  75.285713  53.450539  148583400\n",
              "4  2013-01-07  74.571426  75.614288  73.599998  74.842857  53.136124  121039100"
            ]
          },
          "metadata": {},
          "execution_count": 7
        }
      ]
    },
    {
      "cell_type": "code",
      "source": [
        "# we are taking only the 'open' column \n",
        "apple_training = apple_training.iloc[:,1:2].values"
      ],
      "metadata": {
        "id": "zCvtA7D9lEf7"
      },
      "execution_count": null,
      "outputs": []
    },
    {
      "cell_type": "code",
      "source": [
        "apple_training.shape"
      ],
      "metadata": {
        "colab": {
          "base_uri": "https://localhost:8080/"
        },
        "id": "0sQX4PldlZlT",
        "outputId": "9b3438c8-6145-48e3-b357-15a030a4bf09"
      },
      "execution_count": null,
      "outputs": [
        {
          "output_type": "execute_result",
          "data": {
            "text/plain": [
              "(1260, 1)"
            ]
          },
          "metadata": {},
          "execution_count": 9
        }
      ]
    },
    {
      "cell_type": "code",
      "source": [
        "from sklearn.preprocessing import MinMaxScaler\n",
        "scaler = MinMaxScaler(feature_range=(0,1))\n",
        "\n",
        "apple_training_scaled = scaler.fit_transform(apple_training)"
      ],
      "metadata": {
        "id": "57j05H7ZleOL"
      },
      "execution_count": null,
      "outputs": []
    },
    {
      "cell_type": "code",
      "source": [
        "features_set = []\n",
        "labels = []\n",
        "\n",
        "for i in range(60,1260):\n",
        "  features_set.append(apple_training_scaled[i-60:i,0])\n",
        "  labels.append(apple_training_scaled[i,0])"
      ],
      "metadata": {
        "id": "C5q7h2UWlbk7"
      },
      "execution_count": null,
      "outputs": []
    },
    {
      "cell_type": "code",
      "source": [
        "len(features_set)"
      ],
      "metadata": {
        "colab": {
          "base_uri": "https://localhost:8080/"
        },
        "id": "AFUWiICRpn91",
        "outputId": "28d63730-66a6-4497-b5ab-7f99b21b5c44"
      },
      "execution_count": null,
      "outputs": [
        {
          "output_type": "execute_result",
          "data": {
            "text/plain": [
              "1200"
            ]
          },
          "metadata": {},
          "execution_count": 12
        }
      ]
    },
    {
      "cell_type": "code",
      "source": [
        "import numpy as np\n",
        "features_set, labels = np.array(features_set), np.array(labels)"
      ],
      "metadata": {
        "id": "G1H30gVCpqrM"
      },
      "execution_count": null,
      "outputs": []
    },
    {
      "cell_type": "code",
      "source": [
        "features_set.shape"
      ],
      "metadata": {
        "colab": {
          "base_uri": "https://localhost:8080/"
        },
        "id": "vcLQT6Fwq6PG",
        "outputId": "5c6fa3ce-a76f-4402-89a6-24d4413e924f"
      },
      "execution_count": null,
      "outputs": [
        {
          "output_type": "execute_result",
          "data": {
            "text/plain": [
              "(1200, 60)"
            ]
          },
          "metadata": {},
          "execution_count": 14
        }
      ]
    },
    {
      "cell_type": "code",
      "source": [
        "labels.shape"
      ],
      "metadata": {
        "colab": {
          "base_uri": "https://localhost:8080/"
        },
        "id": "rncNFO21q_aO",
        "outputId": "2c4ed617-bb73-4f6c-b026-8fb3dd383028"
      },
      "execution_count": null,
      "outputs": [
        {
          "output_type": "execute_result",
          "data": {
            "text/plain": [
              "(1200,)"
            ]
          },
          "metadata": {},
          "execution_count": 15
        }
      ]
    },
    {
      "cell_type": "code",
      "source": [
        "features_set = np.reshape(features_set,(features_set.shape[0],features_set.shape[1],1))"
      ],
      "metadata": {
        "id": "RX_nAHS1rBdO"
      },
      "execution_count": null,
      "outputs": []
    },
    {
      "cell_type": "code",
      "source": [
        "features_set.shape"
      ],
      "metadata": {
        "colab": {
          "base_uri": "https://localhost:8080/"
        },
        "id": "TaIuNo8Aq1Dk",
        "outputId": "23fb9f1f-ac98-4a87-c36b-f5fc5055a73d"
      },
      "execution_count": null,
      "outputs": [
        {
          "output_type": "execute_result",
          "data": {
            "text/plain": [
              "(1200, 60, 1)"
            ]
          },
          "metadata": {},
          "execution_count": 17
        }
      ]
    },
    {
      "cell_type": "code",
      "source": [
        "\n",
        "from keras.models import Sequential\n",
        "from keras.layers import Dense\n",
        "from keras.layers import LSTM\n",
        "from keras.layers import Dropout \n"
      ],
      "metadata": {
        "id": "0y4kMSnQb_Rl"
      },
      "execution_count": null,
      "outputs": []
    },
    {
      "cell_type": "code",
      "source": [
        "model = Sequential()"
      ],
      "metadata": {
        "id": "CfX-36L2KkMz"
      },
      "execution_count": null,
      "outputs": []
    },
    {
      "cell_type": "code",
      "source": [
        "model.add(LSTM(units= 50, return_sequences=True, input_shape = (features_set.shape[1],1)))"
      ],
      "metadata": {
        "id": "evS9QZvzKms0"
      },
      "execution_count": null,
      "outputs": []
    },
    {
      "cell_type": "code",
      "source": [
        "model.add(Dropout(0.2))"
      ],
      "metadata": {
        "id": "GJXl0erPRKw6"
      },
      "execution_count": null,
      "outputs": []
    },
    {
      "cell_type": "code",
      "source": [
        "# RNN layer 2\n",
        "model.add(LSTM(units=50,return_sequences=True))\n",
        "model.add(Dropout(0.2))\n",
        "\n",
        "# RNN layer 3\n",
        "model.add(LSTM(units=50,return_sequences=True))\n",
        "model.add(Dropout(0.2))\n",
        "\n",
        "# RNN last layer\n",
        "model.add(LSTM(units=50))\n",
        "model.add(Dropout(0.2))"
      ],
      "metadata": {
        "id": "TE6EIYmcRU5_"
      },
      "execution_count": null,
      "outputs": []
    },
    {
      "cell_type": "code",
      "source": [
        "model.add(Dense(units =1 ))"
      ],
      "metadata": {
        "id": "uKDG1b5KSYoy"
      },
      "execution_count": null,
      "outputs": []
    },
    {
      "cell_type": "code",
      "source": [
        "model.compile(optimizer='adam', loss = 'mean_squared_error')"
      ],
      "metadata": {
        "id": "h25gsTFYTk1z"
      },
      "execution_count": null,
      "outputs": []
    },
    {
      "cell_type": "code",
      "source": [
        "model.fit(features_set,labels,epochs=100,batch_size=32)"
      ],
      "metadata": {
        "colab": {
          "base_uri": "https://localhost:8080/"
        },
        "id": "eHCObJPMT0lQ",
        "outputId": "378c30b1-83fd-4784-d75e-4842d5207aba"
      },
      "execution_count": null,
      "outputs": [
        {
          "output_type": "stream",
          "name": "stdout",
          "text": [
            "Epoch 1/100\n",
            "38/38 [==============================] - 11s 18ms/step - loss: 0.0440\n",
            "Epoch 2/100\n",
            "38/38 [==============================] - 1s 16ms/step - loss: 0.0055\n",
            "Epoch 3/100\n",
            "38/38 [==============================] - 1s 17ms/step - loss: 0.0047\n",
            "Epoch 4/100\n",
            "38/38 [==============================] - 1s 20ms/step - loss: 0.0052\n",
            "Epoch 5/100\n",
            "38/38 [==============================] - 1s 17ms/step - loss: 0.0041\n",
            "Epoch 6/100\n",
            "38/38 [==============================] - 1s 17ms/step - loss: 0.0041\n",
            "Epoch 7/100\n",
            "38/38 [==============================] - 1s 17ms/step - loss: 0.0043\n",
            "Epoch 8/100\n",
            "38/38 [==============================] - 1s 19ms/step - loss: 0.0047\n",
            "Epoch 9/100\n",
            "38/38 [==============================] - 1s 17ms/step - loss: 0.0035\n",
            "Epoch 10/100\n",
            "38/38 [==============================] - 1s 16ms/step - loss: 0.0033\n",
            "Epoch 11/100\n",
            "38/38 [==============================] - 1s 17ms/step - loss: 0.0035\n",
            "Epoch 12/100\n",
            "38/38 [==============================] - 1s 18ms/step - loss: 0.0038\n",
            "Epoch 13/100\n",
            "38/38 [==============================] - 1s 17ms/step - loss: 0.0036\n",
            "Epoch 14/100\n",
            "38/38 [==============================] - 1s 18ms/step - loss: 0.0035\n",
            "Epoch 15/100\n",
            "38/38 [==============================] - 1s 18ms/step - loss: 0.0034\n",
            "Epoch 16/100\n",
            "38/38 [==============================] - 1s 17ms/step - loss: 0.0031\n",
            "Epoch 17/100\n",
            "38/38 [==============================] - 1s 17ms/step - loss: 0.0034\n",
            "Epoch 18/100\n",
            "38/38 [==============================] - 1s 17ms/step - loss: 0.0029\n",
            "Epoch 19/100\n",
            "38/38 [==============================] - 1s 18ms/step - loss: 0.0030\n",
            "Epoch 20/100\n",
            "38/38 [==============================] - 1s 17ms/step - loss: 0.0034\n",
            "Epoch 21/100\n",
            "38/38 [==============================] - 1s 17ms/step - loss: 0.0026\n",
            "Epoch 22/100\n",
            "38/38 [==============================] - 1s 16ms/step - loss: 0.0029\n",
            "Epoch 23/100\n",
            "38/38 [==============================] - 1s 17ms/step - loss: 0.0030\n",
            "Epoch 24/100\n",
            "38/38 [==============================] - 1s 16ms/step - loss: 0.0029\n",
            "Epoch 25/100\n",
            "38/38 [==============================] - 1s 16ms/step - loss: 0.0023\n",
            "Epoch 26/100\n",
            "38/38 [==============================] - 1s 17ms/step - loss: 0.0024\n",
            "Epoch 27/100\n",
            "38/38 [==============================] - 1s 16ms/step - loss: 0.0029\n",
            "Epoch 28/100\n",
            "38/38 [==============================] - 1s 17ms/step - loss: 0.0025\n",
            "Epoch 29/100\n",
            "38/38 [==============================] - 1s 17ms/step - loss: 0.0022\n",
            "Epoch 30/100\n",
            "38/38 [==============================] - 1s 16ms/step - loss: 0.0024\n",
            "Epoch 31/100\n",
            "38/38 [==============================] - 1s 17ms/step - loss: 0.0025\n",
            "Epoch 32/100\n",
            "38/38 [==============================] - 1s 17ms/step - loss: 0.0024\n",
            "Epoch 33/100\n",
            "38/38 [==============================] - 1s 17ms/step - loss: 0.0022\n",
            "Epoch 34/100\n",
            "38/38 [==============================] - 1s 17ms/step - loss: 0.0023\n",
            "Epoch 35/100\n",
            "38/38 [==============================] - 1s 18ms/step - loss: 0.0024\n",
            "Epoch 36/100\n",
            "38/38 [==============================] - 1s 19ms/step - loss: 0.0027\n",
            "Epoch 37/100\n",
            "38/38 [==============================] - 1s 18ms/step - loss: 0.0022\n",
            "Epoch 38/100\n",
            "38/38 [==============================] - 1s 18ms/step - loss: 0.0020\n",
            "Epoch 39/100\n",
            "38/38 [==============================] - 1s 17ms/step - loss: 0.0026\n",
            "Epoch 40/100\n",
            "38/38 [==============================] - 1s 21ms/step - loss: 0.0021\n",
            "Epoch 41/100\n",
            "38/38 [==============================] - 1s 17ms/step - loss: 0.0021\n",
            "Epoch 42/100\n",
            "38/38 [==============================] - 1s 17ms/step - loss: 0.0017\n",
            "Epoch 43/100\n",
            "38/38 [==============================] - 1s 17ms/step - loss: 0.0020\n",
            "Epoch 44/100\n",
            "38/38 [==============================] - 1s 18ms/step - loss: 0.0019\n",
            "Epoch 45/100\n",
            "38/38 [==============================] - 1s 17ms/step - loss: 0.0021\n",
            "Epoch 46/100\n",
            "38/38 [==============================] - 1s 16ms/step - loss: 0.0018\n",
            "Epoch 47/100\n",
            "38/38 [==============================] - 1s 16ms/step - loss: 0.0019\n",
            "Epoch 48/100\n",
            "38/38 [==============================] - 1s 17ms/step - loss: 0.0016\n",
            "Epoch 49/100\n",
            "38/38 [==============================] - 1s 17ms/step - loss: 0.0018\n",
            "Epoch 50/100\n",
            "38/38 [==============================] - 1s 17ms/step - loss: 0.0018\n",
            "Epoch 51/100\n",
            "38/38 [==============================] - 1s 19ms/step - loss: 0.0018\n",
            "Epoch 52/100\n",
            "38/38 [==============================] - 1s 17ms/step - loss: 0.0017\n",
            "Epoch 53/100\n",
            "38/38 [==============================] - 1s 18ms/step - loss: 0.0016\n",
            "Epoch 54/100\n",
            "38/38 [==============================] - 1s 19ms/step - loss: 0.0019\n",
            "Epoch 55/100\n",
            "38/38 [==============================] - 1s 18ms/step - loss: 0.0019\n",
            "Epoch 56/100\n",
            "38/38 [==============================] - 1s 17ms/step - loss: 0.0020\n",
            "Epoch 57/100\n",
            "38/38 [==============================] - 1s 18ms/step - loss: 0.0018\n",
            "Epoch 58/100\n",
            "38/38 [==============================] - 1s 18ms/step - loss: 0.0016\n",
            "Epoch 59/100\n",
            "38/38 [==============================] - 1s 17ms/step - loss: 0.0017\n",
            "Epoch 60/100\n",
            "38/38 [==============================] - 1s 18ms/step - loss: 0.0021\n",
            "Epoch 61/100\n",
            "38/38 [==============================] - 1s 18ms/step - loss: 0.0018\n",
            "Epoch 62/100\n",
            "38/38 [==============================] - 1s 18ms/step - loss: 0.0018\n",
            "Epoch 63/100\n",
            "38/38 [==============================] - 1s 17ms/step - loss: 0.0015\n",
            "Epoch 64/100\n",
            "38/38 [==============================] - 1s 16ms/step - loss: 0.0015\n",
            "Epoch 65/100\n",
            "38/38 [==============================] - 1s 17ms/step - loss: 0.0016\n",
            "Epoch 66/100\n",
            "38/38 [==============================] - 1s 17ms/step - loss: 0.0014\n",
            "Epoch 67/100\n",
            "38/38 [==============================] - 1s 21ms/step - loss: 0.0014\n",
            "Epoch 68/100\n",
            "38/38 [==============================] - 1s 17ms/step - loss: 0.0014\n",
            "Epoch 69/100\n",
            "38/38 [==============================] - 1s 18ms/step - loss: 0.0014\n",
            "Epoch 70/100\n",
            "38/38 [==============================] - 1s 16ms/step - loss: 0.0014\n",
            "Epoch 71/100\n",
            "38/38 [==============================] - 1s 17ms/step - loss: 0.0013\n",
            "Epoch 72/100\n",
            "38/38 [==============================] - 1s 17ms/step - loss: 0.0015\n",
            "Epoch 73/100\n",
            "38/38 [==============================] - 1s 17ms/step - loss: 0.0015\n",
            "Epoch 74/100\n",
            "38/38 [==============================] - 1s 17ms/step - loss: 0.0013\n",
            "Epoch 75/100\n",
            "38/38 [==============================] - 1s 18ms/step - loss: 0.0014\n",
            "Epoch 76/100\n",
            "38/38 [==============================] - 1s 17ms/step - loss: 0.0013\n",
            "Epoch 77/100\n",
            "38/38 [==============================] - 1s 17ms/step - loss: 0.0014\n",
            "Epoch 78/100\n",
            "38/38 [==============================] - 1s 17ms/step - loss: 0.0013\n",
            "Epoch 79/100\n",
            "38/38 [==============================] - 1s 16ms/step - loss: 0.0013\n",
            "Epoch 80/100\n",
            "38/38 [==============================] - 1s 17ms/step - loss: 0.0013\n",
            "Epoch 81/100\n",
            "38/38 [==============================] - 1s 17ms/step - loss: 0.0014\n",
            "Epoch 82/100\n",
            "38/38 [==============================] - 1s 17ms/step - loss: 0.0014\n",
            "Epoch 83/100\n",
            "38/38 [==============================] - 1s 18ms/step - loss: 0.0014\n",
            "Epoch 84/100\n",
            "38/38 [==============================] - 1s 17ms/step - loss: 0.0012\n",
            "Epoch 85/100\n",
            "38/38 [==============================] - 1s 18ms/step - loss: 0.0014\n",
            "Epoch 86/100\n",
            "38/38 [==============================] - 1s 18ms/step - loss: 0.0013\n",
            "Epoch 87/100\n",
            "38/38 [==============================] - 1s 20ms/step - loss: 0.0014\n",
            "Epoch 88/100\n",
            "38/38 [==============================] - 1s 19ms/step - loss: 0.0012\n",
            "Epoch 89/100\n",
            "38/38 [==============================] - 1s 18ms/step - loss: 0.0012\n",
            "Epoch 90/100\n",
            "38/38 [==============================] - 1s 18ms/step - loss: 0.0012\n",
            "Epoch 91/100\n",
            "38/38 [==============================] - 1s 16ms/step - loss: 0.0013\n",
            "Epoch 92/100\n",
            "38/38 [==============================] - 1s 17ms/step - loss: 0.0012\n",
            "Epoch 93/100\n",
            "38/38 [==============================] - 1s 17ms/step - loss: 0.0012\n",
            "Epoch 94/100\n",
            "38/38 [==============================] - 1s 16ms/step - loss: 0.0012\n",
            "Epoch 95/100\n",
            "38/38 [==============================] - 1s 17ms/step - loss: 0.0012\n",
            "Epoch 96/100\n",
            "38/38 [==============================] - 1s 17ms/step - loss: 0.0011\n",
            "Epoch 97/100\n",
            "38/38 [==============================] - 1s 17ms/step - loss: 0.0012\n",
            "Epoch 98/100\n",
            "38/38 [==============================] - 1s 17ms/step - loss: 0.0013\n",
            "Epoch 99/100\n",
            "38/38 [==============================] - 1s 18ms/step - loss: 0.0012\n",
            "Epoch 100/100\n",
            "38/38 [==============================] - 1s 17ms/step - loss: 0.0011\n"
          ]
        },
        {
          "output_type": "execute_result",
          "data": {
            "text/plain": [
              "<keras.callbacks.History at 0x7fcf301fe7d0>"
            ]
          },
          "metadata": {},
          "execution_count": 25
        }
      ]
    },
    {
      "cell_type": "code",
      "source": [
        "apple_testing = pd.read_csv('apple_testing.csv')\n",
        "apple_testing_processed = apple_testing.iloc[:,1:2].values # select only \"open\" column"
      ],
      "metadata": {
        "id": "hnszfemeVOoB"
      },
      "execution_count": null,
      "outputs": []
    },
    {
      "cell_type": "code",
      "source": [
        "apple_testing_processed.shape"
      ],
      "metadata": {
        "colab": {
          "base_uri": "https://localhost:8080/"
        },
        "id": "XUtg6msDVlXL",
        "outputId": "79d09c91-e7b5-4059-dc48-c8a9041dc88f"
      },
      "execution_count": null,
      "outputs": [
        {
          "output_type": "execute_result",
          "data": {
            "text/plain": [
              "(20, 1)"
            ]
          },
          "metadata": {},
          "execution_count": 27
        }
      ]
    },
    {
      "cell_type": "markdown",
      "source": [
        "Converting test data into right format\n",
        "For each day of January 2018, we want our feature set to contain the opening stock prices for the previous 60 days because the model is trained like that, given previous 60 days values it will predict the next values. For the 1st of January, we need the stock prices for the previous 60 days. To do so, we need to concatenate our training data and test data before preprocessing"
      ],
      "metadata": {
        "id": "oqWOSkcIYTqq"
      }
    },
    {
      "cell_type": "code",
      "source": [
        "apple_training_data = pd.read_csv('apple_training.csv')\n",
        "apple_total = pd.concat((apple_training_data['Open'],apple_testing['Open']),axis=0) # concatenate row wise"
      ],
      "metadata": {
        "id": "ZUFximzUYVsz"
      },
      "execution_count": null,
      "outputs": []
    },
    {
      "cell_type": "code",
      "source": [
        "apple_total.shape"
      ],
      "metadata": {
        "colab": {
          "base_uri": "https://localhost:8080/"
        },
        "id": "rI7DbZYIacYJ",
        "outputId": "7153aa75-91c6-46db-8c05-c204b8bb34d8"
      },
      "execution_count": null,
      "outputs": [
        {
          "output_type": "execute_result",
          "data": {
            "text/plain": [
              "(1280,)"
            ]
          },
          "metadata": {},
          "execution_count": 29
        }
      ]
    },
    {
      "cell_type": "code",
      "source": [
        "apple_total.head()"
      ],
      "metadata": {
        "colab": {
          "base_uri": "https://localhost:8080/"
        },
        "id": "_O2sZoB1c8LC",
        "outputId": "91277efc-e927-46ab-c5c9-195cb4512298"
      },
      "execution_count": null,
      "outputs": [
        {
          "output_type": "execute_result",
          "data": {
            "text/plain": [
              "0    72.932854\n",
              "1    79.117142\n",
              "2    78.268570\n",
              "3    76.709999\n",
              "4    74.571426\n",
              "Name: Open, dtype: float64"
            ]
          },
          "metadata": {},
          "execution_count": 30
        }
      ]
    },
    {
      "cell_type": "markdown",
      "source": [
        "Now let's prepare our test inputs. The input for each day should contain the opening stock prices for the previous 60 days. That means we need opening stock prices for the 20 test days for the month of January 2018 and the 60 stock prices from the last 60 days for the training set."
      ],
      "metadata": {
        "id": "UyKIym3MdmC7"
      }
    },
    {
      "cell_type": "code",
      "source": [
        "test_inputs = apple_total[len(apple_total) - len(apple_testing) - 60:].values"
      ],
      "metadata": {
        "id": "yzlFzd11n0RJ"
      },
      "execution_count": null,
      "outputs": []
    },
    {
      "cell_type": "code",
      "source": [
        "test_inputs.shape"
      ],
      "metadata": {
        "colab": {
          "base_uri": "https://localhost:8080/"
        },
        "id": "drBpogqEoOgb",
        "outputId": "5b2330c8-422b-417c-ace5-dbf624a40617"
      },
      "execution_count": null,
      "outputs": [
        {
          "output_type": "execute_result",
          "data": {
            "text/plain": [
              "(80,)"
            ]
          },
          "metadata": {},
          "execution_count": 32
        }
      ]
    },
    {
      "cell_type": "code",
      "source": [
        "len(apple_total)"
      ],
      "metadata": {
        "colab": {
          "base_uri": "https://localhost:8080/"
        },
        "id": "3x1tLv1doRE1",
        "outputId": "ee0e02ba-f97f-411d-ebcb-99be77f358e6"
      },
      "execution_count": null,
      "outputs": [
        {
          "output_type": "execute_result",
          "data": {
            "text/plain": [
              "1280"
            ]
          },
          "metadata": {},
          "execution_count": 33
        }
      ]
    },
    {
      "cell_type": "code",
      "source": [
        "len(apple_testing)"
      ],
      "metadata": {
        "colab": {
          "base_uri": "https://localhost:8080/"
        },
        "id": "Q3b_D96WoVnc",
        "outputId": "360bb39d-23b4-4e2a-b50e-0a29c3ee1ea9"
      },
      "execution_count": null,
      "outputs": [
        {
          "output_type": "execute_result",
          "data": {
            "text/plain": [
              "20"
            ]
          },
          "metadata": {},
          "execution_count": 34
        }
      ]
    },
    {
      "cell_type": "code",
      "source": [
        "test_inputs = test_inputs.reshape(-1,1)"
      ],
      "metadata": {
        "id": "GfGJhKDkH2Do"
      },
      "execution_count": null,
      "outputs": []
    },
    {
      "cell_type": "code",
      "source": [
        "test_inputs.shape"
      ],
      "metadata": {
        "colab": {
          "base_uri": "https://localhost:8080/"
        },
        "id": "rFLGicU0IBYL",
        "outputId": "6edacbec-3671-4609-808d-130f0e740992"
      },
      "execution_count": null,
      "outputs": [
        {
          "output_type": "execute_result",
          "data": {
            "text/plain": [
              "(80, 1)"
            ]
          },
          "metadata": {},
          "execution_count": 36
        }
      ]
    },
    {
      "cell_type": "code",
      "source": [
        "test_inputs = scaler.transform(test_inputs)"
      ],
      "metadata": {
        "id": "pnpQjlIMoYPd"
      },
      "execution_count": null,
      "outputs": []
    },
    {
      "cell_type": "code",
      "source": [
        "test_features = []\n",
        "for i in range(60,80):\n",
        "  test_features.append(test_inputs[i-60:i, 0])"
      ],
      "metadata": {
        "id": "Ft5r8QSSvdOF"
      },
      "execution_count": null,
      "outputs": []
    },
    {
      "cell_type": "code",
      "source": [
        "test_features = np.array(test_features)"
      ],
      "metadata": {
        "id": "dMGtivXlIPGU"
      },
      "execution_count": null,
      "outputs": []
    },
    {
      "cell_type": "code",
      "source": [
        "test_features.shape"
      ],
      "metadata": {
        "colab": {
          "base_uri": "https://localhost:8080/"
        },
        "id": "P64EcF6wIW4x",
        "outputId": "d50db5fd-e023-479d-9019-1abdd1a54eb0"
      },
      "execution_count": null,
      "outputs": [
        {
          "output_type": "execute_result",
          "data": {
            "text/plain": [
              "(20, 60)"
            ]
          },
          "metadata": {},
          "execution_count": 40
        }
      ]
    },
    {
      "cell_type": "code",
      "source": [
        "test_features = np.reshape(test_features,(test_features.shape[0] , test_features.shape[1], 1))"
      ],
      "metadata": {
        "id": "zQ1ynq7rIcJK"
      },
      "execution_count": null,
      "outputs": []
    },
    {
      "cell_type": "code",
      "source": [
        "test_features.shape"
      ],
      "metadata": {
        "colab": {
          "base_uri": "https://localhost:8080/"
        },
        "id": "nnv_mibfIxJJ",
        "outputId": "3a77b072-be01-4d12-9306-4c9b8a96d420"
      },
      "execution_count": null,
      "outputs": [
        {
          "output_type": "execute_result",
          "data": {
            "text/plain": [
              "(20, 60, 1)"
            ]
          },
          "metadata": {},
          "execution_count": 42
        }
      ]
    },
    {
      "cell_type": "code",
      "source": [
        "predictions = model.predict(test_features)"
      ],
      "metadata": {
        "id": "RxvYukAXIzrm"
      },
      "execution_count": null,
      "outputs": []
    },
    {
      "cell_type": "markdown",
      "source": [
        "Since we scaled our data, the predictions made by the LSTM are also scaled. We need to reverse the scaled prediction back to their actual values. To do so, we can use the ìnverse_transform method of the scaler object we created during training.\n"
      ],
      "metadata": {
        "id": "1ZhHv-mGJAcb"
      }
    },
    {
      "cell_type": "code",
      "source": [
        "predictions = scaler.inverse_transform(predictions)"
      ],
      "metadata": {
        "id": "5hzog6fbJEA2"
      },
      "execution_count": null,
      "outputs": []
    },
    {
      "cell_type": "code",
      "source": [
        "predictions # appple stock price prediction for the 20 days in the test data"
      ],
      "metadata": {
        "colab": {
          "base_uri": "https://localhost:8080/"
        },
        "id": "9uYM5lriJNlL",
        "outputId": "0b7d4a64-4d82-47d4-c1c4-659526b03b24"
      },
      "execution_count": null,
      "outputs": [
        {
          "output_type": "execute_result",
          "data": {
            "text/plain": [
              "array([[168.33551],\n",
              "       [168.20415],\n",
              "       [168.68628],\n",
              "       [169.45006],\n",
              "       [170.26529],\n",
              "       [171.02821],\n",
              "       [171.58969],\n",
              "       [171.60262],\n",
              "       [171.51915],\n",
              "       [171.82079],\n",
              "       [172.70206],\n",
              "       [173.38081],\n",
              "       [174.25598],\n",
              "       [174.98521],\n",
              "       [175.14716],\n",
              "       [174.9011 ],\n",
              "       [174.54724],\n",
              "       [173.7737 ],\n",
              "       [172.42455],\n",
              "       [170.715  ]], dtype=float32)"
            ]
          },
          "metadata": {},
          "execution_count": 45
        }
      ]
    },
    {
      "cell_type": "code",
      "source": [
        "len(predictions)"
      ],
      "metadata": {
        "colab": {
          "base_uri": "https://localhost:8080/"
        },
        "id": "1Lsd8RH6JO76",
        "outputId": "82d5d4d9-527f-4838-9a4f-bfc2c33f17f8"
      },
      "execution_count": null,
      "outputs": [
        {
          "output_type": "execute_result",
          "data": {
            "text/plain": [
              "20"
            ]
          },
          "metadata": {},
          "execution_count": 46
        }
      ]
    },
    {
      "cell_type": "code",
      "source": [
        "import matplotlib.pyplot as plt\n",
        "plt.figure(figsize=(10,6))  \n",
        "plt.plot(apple_testing_processed, color='blue', label='Actual Apple Stock Price')  \n",
        "plt.plot(predictions , color='red', label='Predicted Apple Stock Price')  \n",
        "plt.title('Apple Stock Price Prediction')  \n",
        "plt.xlabel('Date')  \n",
        "plt.ylabel('Apple Stock Price')  \n",
        "plt.legend()  \n",
        "plt.show()  "
      ],
      "metadata": {
        "colab": {
          "base_uri": "https://localhost:8080/",
          "height": 404
        },
        "id": "H4fq1zOdJfjd",
        "outputId": "0958fda6-dd3d-43a1-a2b8-cab37131cb04"
      },
      "execution_count": null,
      "outputs": [
        {
          "output_type": "display_data",
          "data": {
            "image/png": "[encoded data removed]",
            "text/plain": [
              "<Figure size 720x432 with 1 Axes>"
            ]
          },
          "metadata": {
            "needs_background": "light"
          }
        }
      ]
    }
  ]
}